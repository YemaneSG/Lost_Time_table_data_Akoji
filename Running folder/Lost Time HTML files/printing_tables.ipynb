{
 "cells": [
  {
   "cell_type": "code",
   "execution_count": 1,
   "metadata": {},
   "outputs": [],
   "source": [
    "import os\n",
    "import pandas as pd \n",
    "from bs4 import BeautifulSoup\n",
    "from lxml import etree\n",
    "from os import listdir\n",
    "from os.path import isfile, join"
   ]
  },
  {
   "cell_type": "code",
   "execution_count": 2,
   "metadata": {},
   "outputs": [
    {
     "name": "stdout",
     "output_type": "stream",
     "text": [
      "this is the main df\n",
      "Empty DataFrame\n",
      "Columns: []\n",
      "Index: []\n",
      "this is the df for lost time\n",
      "Empty DataFrame\n",
      "Columns: []\n",
      "Index: []\n"
     ]
    }
   ],
   "source": [
    "df = pd.DataFrame()\n",
    "df_lost_time = pd.DataFrame()\n",
    "print(\"this is the main df\")\n",
    "print(df)\n",
    "print(\"this is the df for lost time\")\n",
    "print(df_lost_time)"
   ]
  },
  {
   "cell_type": "code",
   "execution_count": null,
   "metadata": {},
   "outputs": [],
   "source": [
    "def extractdata(df, filename):\n",
    "\n",
    "    with open(filename, 'r') as f:\n",
    "\n",
    "        contents = f.read()\n",
    "        #this is lxml method to read\n",
    "        #soup = BeautifulSoup(contents, 'lxml')\n",
    "\n",
    "        #this is beautiful soup html parser \n",
    "        soup = BeautifulSoup(contents, \"html.parser\")\n",
    "        dom = etree.HTML(str(soup))\n",
    "\n",
    "        print(\"File: \" + soup.title.text)\n",
    "\n",
    "        #assign soup items in to table and rows rows is table body and table rows \n",
    "        table = soup.find(\"table\", {\"id\": \"AutoNumber2\"})     \n",
    "        #printing the table\n",
    "        print(table)"
   ]
  },
  {
   "cell_type": "code",
   "execution_count": null,
   "metadata": {},
   "outputs": [],
   "source": [
    "#this takes in df and morning reports folder\n",
    "#it goes through all files in the folder \n",
    "#it iterates files and joins the file name to the folder name\n",
    "#and \"/reports\" extension to have a full path\n",
    "#returns data frame \n",
    "#it class extract data function on each files in the directory\n",
    "\n",
    "def readReportsPerDay(df, morningReportFolder):\n",
    "\n",
    "    mypath = morningReportFolder + \"/reports\"\n",
    "    #mypath += \"/reports\"\n",
    "    onlyfiles = [f for f in listdir(mypath) if isfile(join(mypath, f))]\n",
    "\n",
    "    count = 1\n",
    "\n",
    "    for filename in onlyfiles:\n",
    "\n",
    "        if \"DS_Store\" in filename:\n",
    "            continue\n",
    "\n",
    "        #this is just building the path for iteration\n",
    "        filename = mypath + \"/\" + filename\n",
    "        print(str(count) + \" \" + filename)\n",
    "\n",
    "        df = extractdata(df, filename)\n",
    "        count += 1\n",
    "\n",
    "    return df"
   ]
  },
  {
   "cell_type": "code",
   "execution_count": null,
   "metadata": {},
   "outputs": [],
   "source": [
    "#This is to manage O/I of files in the folder\n",
    "# this funtion will calls the reports per day function \n",
    "#this is to be used for running the program in folder\n",
    "#it goes thru the all morning report folders per day inside specific folder \n",
    "def runInRunningFolder(df):\n",
    "\n",
    "    for morningReportFolder in listdir(os.getcwd()):\n",
    "\n",
    "        if \".ipynb\" in morningReportFolder or \".csv\" in morningReportFolder or \"DS_Store\" in morningReportFolder or \".xlsx\" in morningReportFolder or \".json\" in morningReportFolder or \".pbix\" in morningReportFolder or \".zip\" in morningReportFolder:\n",
    "            continue\n",
    "\n",
    "        print(morningReportFolder + \"\\n\")\n",
    "\n",
    "        df = readReportsPerDay(df, morningReportFolder)\n",
    "\n",
    "    return df"
   ]
  },
  {
   "cell_type": "code",
   "execution_count": null,
   "metadata": {},
   "outputs": [],
   "source": [
    "#this is where we run the code for each item in directory \n",
    "#this will list curent working directory and rung the code \n",
    "\n",
    "print(os.getcwd())\n",
    "\n",
    "\n",
    "df = runInRunningFolder(df)\n",
    "\n",
    "print(df)"
   ]
  }
 ],
 "metadata": {
  "kernelspec": {
   "display_name": "Python 3.8.5 ('base')",
   "language": "python",
   "name": "python3"
  },
  "language_info": {
   "codemirror_mode": {
    "name": "ipython",
    "version": 3
   },
   "file_extension": ".py",
   "mimetype": "text/x-python",
   "name": "python",
   "nbconvert_exporter": "python",
   "pygments_lexer": "ipython3",
   "version": "3.8.5"
  },
  "orig_nbformat": 4,
  "vscode": {
   "interpreter": {
    "hash": "3597ca315cc4d0c44229882773a9f8a0584b41dcd6bb162ad917953ccaa3f5c2"
   }
  }
 },
 "nbformat": 4,
 "nbformat_minor": 2
}
