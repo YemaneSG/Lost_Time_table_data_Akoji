{
 "cells": [
  {
   "cell_type": "code",
   "execution_count": 1,
   "metadata": {},
   "outputs": [],
   "source": [
    "import os\n",
    "import pandas as pd \n",
    "from bs4 import BeautifulSoup\n",
    "from lxml import etree\n",
    "from os import listdir\n",
    "from os.path import isfile, join"
   ]
  },
  {
   "cell_type": "code",
   "execution_count": 2,
   "metadata": {},
   "outputs": [
    {
     "name": "stdout",
     "output_type": "stream",
     "text": [
      "this is the main df\n",
      "Empty DataFrame\n",
      "Columns: []\n",
      "Index: []\n",
      "this is the df for lost time\n",
      "Empty DataFrame\n",
      "Columns: []\n",
      "Index: []\n"
     ]
    }
   ],
   "source": [
    "df = pd.DataFrame()\n",
    "df_lost_time = pd.DataFrame()\n",
    "print(\"this is the main df\")\n",
    "print(df)\n",
    "print(\"this is the df for lost time\")\n",
    "print(df_lost_time)"
   ]
  },
  {
   "cell_type": "code",
   "execution_count": 3,
   "metadata": {},
   "outputs": [
    {
     "name": "stdout",
     "output_type": "stream",
     "text": [
      "File: ADC-17\n"
     ]
    }
   ],
   "source": [
    "#single file opening\n",
    "file = open(\"ADC-17-ZULF-1385.html\",'r')\n",
    "content = file.read()\n",
    "soup = BeautifulSoup(content, \"html.parser\")\n",
    "dom = etree.HTML(str(soup))\n",
    "\n",
    "print(\"File: \" + soup.title.text)\n"
   ]
  },
  {
   "cell_type": "code",
   "execution_count": 4,
   "metadata": {},
   "outputs": [],
   "source": [
    " #This is to assign header data for df\n",
    "try:\n",
    "    date = dom.xpath('//*[@id=\"AutoNumber1\"]/thead/tr[1]/td/table/tbody/tr[1]/td[2]/table/tbody/tr[3]/td')[0].text\n",
    "    wellno = dom.xpath('//*[@id=\"AutoNumber1\"]/thead/tr[1]/td/table/tbody/tr[1]/td[3]/table[1]/tbody/tr[2]/td')[0].text\n",
    "    rigname = dom.xpath('//*[@id=\"AutoNumber1\"]/thead/tr[1]/td/table/tbody/tr[1]/td[4]/table/tbody/tr[2]/td')[0].text\n",
    "except:\n",
    "    date = \"\"\n",
    "    wellno = \"\"\n",
    "    rigname = \"\""
   ]
  },
  {
   "cell_type": "code",
   "execution_count": 6,
   "metadata": {},
   "outputs": [
    {
     "name": "stdout",
     "output_type": "stream",
     "text": [
      "Date is:08/30/2022\n",
      "Well number is: ZULF-1385\n",
      "rig name is:ADC-17\n"
     ]
    }
   ],
   "source": [
    "print(\"Date is:\" +date)\n",
    "print(\"Well number is: \" +wellno)\n",
    "print(\"rig name is:\" + rigname)"
   ]
  },
  {
   "cell_type": "code",
   "execution_count": 8,
   "metadata": {},
   "outputs": [],
   "source": [
    "#print(soup.prettify())\n",
    "#assign soup items in to table and rows rows is table body and table rows \n",
    "table = soup.find(\"table\", {\"id\": \"AutoNumber2\"})\n",
    "#printing the table\n",
    "#print(table)"
   ]
  },
  {
   "cell_type": "code",
   "execution_count": 9,
   "metadata": {},
   "outputs": [],
   "source": [
    "rows = table.find(\"tbody\").find_all('tr')"
   ]
  },
  {
   "cell_type": "code",
   "execution_count": null,
   "metadata": {},
   "outputs": [],
   "source": [
    "for row in rows:\n",
    "    print(row.)"
   ]
  },
  {
   "cell_type": "code",
   "execution_count": 28,
   "metadata": {},
   "outputs": [
    {
     "name": "stdout",
     "output_type": "stream",
     "text": [
      "7\n"
     ]
    }
   ],
   "source": [
    "print(len(rows))"
   ]
  },
  {
   "cell_type": "code",
   "execution_count": 43,
   "metadata": {},
   "outputs": [
    {
     "name": "stdout",
     "output_type": "stream",
     "text": [
      "-7\n"
     ]
    }
   ],
   "source": [
    "neg_length_rows = 0- len(rows)\n",
    "print(neg_length)"
   ]
  },
  {
   "cell_type": "code",
   "execution_count": null,
   "metadata": {},
   "outputs": [],
   "source": [
    "for i in range(-1,neg_length_rows):\n",
    "    table_data = rows[i].find_all(\"td\")\n",
    "    table_data[-1].get_text()\n",
    "    if table_data == \"LT Summary\":\n",
    "        break\n"
   ]
  },
  {
   "cell_type": "code",
   "execution_count": 41,
   "metadata": {},
   "outputs": [
    {
     "data": {
      "text/plain": [
       "'LT Summary'"
      ]
     },
     "execution_count": 41,
     "metadata": {},
     "output_type": "execute_result"
    }
   ],
   "source": [
    "\n",
    "\n",
    "\n",
    "\n",
    "\n",
    "\n",
    "\n",
    "#rows[-1]\n",
    "table_data = rows[-2].find_all(\"td\")\n",
    "\n",
    "table_data[-1].get_text()\n",
    "\n",
    "# for data in table_data:\n",
    "#     print(data.get_text())\n",
    "# if data[0].get_text() == \"From  - To\":\n",
    "#         print(\"we found the marker\")"
   ]
  },
  {
   "cell_type": "code",
   "execution_count": null,
   "metadata": {},
   "outputs": [],
   "source": [
    " #the method to identify files with lost time is\n",
    " #to iterate thru all row of the table and check if it contains \"Lost time details\"\n",
    "for row in rows:\n",
    "   table_data = row.find_all(\"td\")\n",
    "   "
   ]
  },
  {
   "cell_type": "code",
   "execution_count": 71,
   "metadata": {},
   "outputs": [
    {
     "name": "stdout",
     "output_type": "stream",
     "text": [
      "18\n",
      "<class 'bs4.element.ResultSet'>\n",
      "assigned date and time: is DRLG\n",
      "-1 item RIH W/ 22\" NEW TC BIT ON SPERRY BHA ADDING 2 STD X 9.5\" & 1 STD X 8.5\" DC, WASH DOWN TO BTM @ 448 FT.\n",
      "-2 item  \n",
      "-3 item  \n",
      "-4 item  \n",
      "-5 item  \n",
      "-6 item 448\n",
      "-7 item 448\n",
      "-8 item RIG\n",
      "-9 item BHA\n",
      "-10 item HT\n",
      "-11 tem DRLG\n",
      "18\n",
      "<class 'bs4.element.ResultSet'>\n",
      "assigned date and time: is DRLG\n",
      "-1 item DIRECTIONAL DRILL ROTATE/SLIDE 22\" HOLE SECTION WITH SPERRY MM/GWD ASSY.- PUMP HI VIS EVERY STD.- ADDING RAPID STICKS WHILE CONNECTION.- RECORD GWD SURVEY EVERY STD.- SLIDING 33%, ROTARY 67%.- ACTUAL FROM PLAN: 3 FT ABOVE, 1 FT LEFT.\n",
      "-2 item  \n",
      "-3 item  \n",
      "-4 item  \n",
      "-5 item  \n",
      "-6 item 1470\n",
      "-7 item 448\n",
      "-8 item SPS\n",
      "-9 item MMOT\n",
      "-10 item DMR\n",
      "-11 tem DRLG\n",
      "18\n",
      "<class 'bs4.element.ResultSet'>\n",
      "assigned date and time: is DRLG\n",
      "-1 item CHANGE PISTON FOR MUD PUMP #1 MEANWHILE CIRC WASH UP & REAM DOWN WITH MUD PUMP #2.\n",
      "-2 item  901503\n",
      "-3 item  RR\n",
      "-4 item  \n",
      "-5 item  \n",
      "-6 item 1470\n",
      "-7 item 1470\n",
      "-8 item RIG\n",
      "-9 item MPMP\n",
      "-10 item RR\n",
      "-11 tem DRLG\n",
      "18\n",
      "<class 'bs4.element.ResultSet'>\n",
      "assigned date and time: is DRLG\n",
      "-1 item DIRECTIONAL DRILL ROTATE/SLIDE 22\" HOLE SECTION WITH SPERRY MM/GWD ASSY.- PUMP HI VIS EVERY STD.- ADDING RAPID STICKS WHILE CONNECTION.- RECORD GWD SURVEY EVERY STD.- SLIDING 33%, ROTARY 67%.- ACTUAL FROM PLAN: 3 FT ABOVE, 1 FT LEFT.\n",
      "-2 item  \n",
      "-3 item  \n",
      "-4 item  \n",
      "-5 item  \n",
      "-6 item 1560\n",
      "-7 item 1470\n",
      "-8 item SPS\n",
      "-9 item MMOT\n",
      "-10 item DMR\n",
      "-11 tem DRLG\n",
      "23\n",
      "<class 'bs4.element.ResultSet'>\n",
      "assigned date and time: is 30 Aug 0245 - 0315\n",
      "-1 item  PRESSURE DROP DUE TO FAILURE OF PISTON FOR MUD PUMP #1.\n",
      "-2 item  1470\n",
      "-3 item  RIG\n",
      "-4 item  MPMP\n",
      "-5 item  FPMP\n",
      "-6 item  RR\n",
      "-7 item  \n",
      "-8 item  901503\n",
      "-9 item  .5\n",
      "-10 item  .5\n",
      "-11 tem 30 Aug 0245 - 0315\n",
      "11\n",
      "<class 'bs4.element.ResultSet'>\n",
      "assigned date and time: is From  - To\n",
      "-1 item LT Summary\n",
      "-2 item  Depth\n",
      "-3 item  Resp Co\n",
      "-4 item Object\n",
      "-5 item Cause\n",
      "-6 item Type\n",
      "-7 item Parent LT ID\n",
      "-8 item LT ID\n",
      "-9 item Cum. Hrs\n",
      "-10 item Hrs\n",
      "-11 tem From  - To\n",
      "11\n",
      "<class 'bs4.element.ResultSet'>\n",
      "assigned date and time: is 30 Aug 0245 - 0315\n",
      "-1 item  PRESSURE DROP DUE TO FAILURE OF PISTON FOR MUD PUMP #1.\n",
      "-2 item  1470\n",
      "-3 item  RIG\n",
      "-4 item  MPMP\n",
      "-5 item  FPMP\n",
      "-6 item  RR\n",
      "-7 item  \n",
      "-8 item  901503\n",
      "-9 item  .5\n",
      "-10 item  .5\n",
      "-11 tem 30 Aug 0245 - 0315\n"
     ]
    }
   ],
   "source": [
    "for row in rows:\n",
    "    table_data = row.find_all(\"td\")\n",
    "    print(len(table_data))\n",
    "    print(type(table_data))\n",
    "    #print(columns)\n",
    "    date_and_time = table_data[-11].get_text()\n",
    "    print(\"assigned date and time: is \" + date_and_time)\n",
    "\n",
    "    print(\"-1 item \" + table_data[-1].get_text() )\n",
    "    print(\"-2 item \" + table_data[-2].get_text() )\n",
    "    print(\"-3 item \" + table_data[-3].get_text() )\n",
    "    print(\"-4 item \" + table_data[-4].get_text() )\n",
    "    print(\"-5 item \" + table_data[-5].get_text() )\n",
    "    print(\"-6 item \" + table_data[-6].get_text() )\n",
    "    print(\"-7 item \" + table_data[-7].get_text() )\n",
    "    print(\"-8 item \" + table_data[-8].get_text() )\n",
    "    print(\"-9 item \" + table_data[-9].get_text() )\n",
    "    print(\"-10 item \" + table_data[-10].get_text() )\n",
    "    print(\"-11 tem \" + table_data[-11].get_text() )\n",
    "    #print(\"-12 item \" + columns[-12].get_text() )"
   ]
  },
  {
   "cell_type": "code",
   "execution_count": 65,
   "metadata": {},
   "outputs": [
    {
     "name": "stdout",
     "output_type": "stream",
     "text": [
      "18\n",
      "18\n",
      "18\n",
      "18\n",
      "23\n",
      "11\n",
      "11\n"
     ]
    }
   ],
   "source": [
    "#the number of columns per each row is\n",
    "# 18 for upper table\n",
    "# 11 for lost time table\n",
    "# there is an item with 23 elements it is in the middle\n",
    "\n",
    "for row in rows:\n",
    "    columns = row.find_all(\"td\")\n",
    "    print(len(columns))"
   ]
  },
  {
   "cell_type": "code",
   "execution_count": 27,
   "metadata": {},
   "outputs": [],
   "source": [
    "lost_time_string = soup.find(string =\"Lost Time Details\")"
   ]
  },
  {
   "cell_type": "code",
   "execution_count": 51,
   "metadata": {},
   "outputs": [
    {
     "name": "stdout",
     "output_type": "stream",
     "text": [
      "Lost Time Details\n"
     ]
    }
   ],
   "source": [
    "print(lost_time_string)"
   ]
  },
  {
   "cell_type": "code",
   "execution_count": 29,
   "metadata": {},
   "outputs": [
    {
     "data": {
      "text/plain": [
       "<span style=\"font-size: x-small; font-weight: bold\">Lost Time Details</span>"
      ]
     },
     "execution_count": 29,
     "metadata": {},
     "output_type": "execute_result"
    }
   ],
   "source": [
    "lost_time_string.find_parent()"
   ]
  },
  {
   "cell_type": "code",
   "execution_count": 31,
   "metadata": {},
   "outputs": [],
   "source": [
    "lost_time_tags = soup.findAll(\"Lost Time Details\")"
   ]
  },
  {
   "cell_type": "code",
   "execution_count": 70,
   "metadata": {},
   "outputs": [
    {
     "name": "stdout",
     "output_type": "stream",
     "text": [
      "Lost time table found.\n"
     ]
    }
   ],
   "source": [
    "if soup.find(string =\"Lost Time Details\") == \"Lost Time Details\":\n",
    "    print(\"Lost time table found.\")\n",
    "else:\n",
    "    pass\n"
   ]
  },
  {
   "cell_type": "code",
   "execution_count": null,
   "metadata": {},
   "outputs": [],
   "source": [
    "for row in soup.table.find_all('tr'):\n",
    "        if row.tr.td.text == \"Lost Time Details\":\n",
    "            print(\"Lost time table found.\")\n",
    "        else:\n",
    "            continue"
   ]
  }
 ],
 "metadata": {
  "kernelspec": {
   "display_name": "Python 3.8.5 ('base')",
   "language": "python",
   "name": "python3"
  },
  "language_info": {
   "codemirror_mode": {
    "name": "ipython",
    "version": 3
   },
   "file_extension": ".py",
   "mimetype": "text/x-python",
   "name": "python",
   "nbconvert_exporter": "python",
   "pygments_lexer": "ipython3",
   "version": "3.8.5"
  },
  "orig_nbformat": 4,
  "vscode": {
   "interpreter": {
    "hash": "3597ca315cc4d0c44229882773a9f8a0584b41dcd6bb162ad917953ccaa3f5c2"
   }
  }
 },
 "nbformat": 4,
 "nbformat_minor": 2
}
