import os
# import pandas library as pd
import pandas as pd
from bs4 import BeautifulSoup
from lxml import etree
from os import listdir
from os.path import isfile, join

# create an Empty DataFrame object
df = pd.DataFrame()
print(df)

#this function is being used in extract data funtion 
#to get columns per row and assigning them 
#if missing it will assign empty string 
def getTextFromTag(columns, index):
    columnText = ""
    try:
        columnText = columns[index].get_text()
    except:
        pass
    return columnText

#this is extract data function
#this function is callled in reports per day function to extract data 
#it reads one file and adds to data frame
#it takes data frame and returns data frame updated per files 
def extractdata(df, filename):

    with open(filename, 'r') as f:

        contents = f.read()
        #this is lxml method to read
        #soup = BeautifulSoup(contents, 'lxml')

        #this is beautiful soup html parser 
        soup = BeautifulSoup(contents, "html.parser")
        dom = etree.HTML(str(soup))

        print("File: " + soup.title.text)
        
        try:
            linerSize = dom.xpath('//*[@id="AutoNumber1"]/thead/tr[2]/td/table/tbody/tr[2]/td[2]/table/tbody/tr[2]/td[1]')[0].text
            date = dom.xpath('//*[@id="AutoNumber1"]/thead/tr[1]/td/table/tbody/tr[1]/td[2]/table/tbody/tr[3]/td')[0].text
            wellno = dom.xpath('//*[@id="AutoNumber1"]/thead/tr[1]/td/table/tbody/tr[1]/td[3]/table[1]/tbody/tr[2]/td')[0].text
            rigname = dom.xpath('//*[@id="AutoNumber1"]/thead/tr[1]/td/table/tbody/tr[1]/td[4]/table/tbody/tr[2]/td')[0].text
        except:
            linerSize = ""
            date = ""
            wellno = ""
            rigname = ""
        
        if linerSize is None:
            linerSize = "None"
        #assign soup items in to table and rows rows is table body and table rows 
        table = soup.find("table", {"id": "AutoNumber2"})     
        #printing the table
        #print(table)
                
        rows = table.find("tbody").find_all("tr")

        for row in rows:
            
            #this will grab all the columns for each row 
            columns = row.find_all("td")
            print(len(columns))
            lateral = getTextFromTag(columns, 4)
            holesize = getTextFromTag(columns, 5)
            majoroperation = getTextFromTag(columns, 7)
            action = getTextFromTag(columns, 8)
            operation = getTextFromTag(columns, 9)
            company = getTextFromTag(columns, 10)
            holeDepthStart = getTextFromTag(columns, 11)
            holeDepthEnd = getTextFromTag(columns, 12)
            eventDepthStart = getTextFromTag(columns, 13)
            eventDepthEnd = getTextFromTag(columns, 14)
            if len(columns) == 16:
                SummaryOfOperation = getTextFromTag(columns, 15)
            else: 
                SummaryOfOperation = getTextFromTag(columns, 17)
            #checking for lost time
            if company == "LT Summary" or column11 == "LT Summary":
                #returning df after checking for lost time
                return df
            if operation is None or company is None:
                continue    
            #checking for extra line of information about the depth 
            #and company this will ignore that line. it is un necessary 
            if company == "Depth":
                
                #it will skip the line
                continue
            data = {
                "Date": date,
                "Well No": wellno,
                "Liner Size": linerSize,
                "Operation": operation,
                "Rig Name": rigname,
                "lateral":lateral,
                "holesize":holesize,
                "majoroperation": majoroperation,
                "action": action,
                "Company Name": company,              
                "Hole Depth Start" : holeDepthStart,
                "Hole Depth End" : holeDepthEnd,
                "Event Depth Start" : eventDepthStart,
                "Event Depth End" : eventDepthEnd,
                "Summarry Of Operation" : SummaryOfOperation       
            }
            
            df = df.append(data, ignore_index = True)

    return df


def readReportsPerDay(df, MRday):

    mypath = MRday + "/reports"
    #mypath += "/reports"
    onlyfiles = [f for f in listdir(mypath) if isfile(join(mypath, f))]

    #print(type(onlyfiles))
    #print(onlyfiles)
    #print(os.getcwd())

    count = 1

    for filename in onlyfiles:

        filename = mypath + "/" + filename

        print(str(count) + " " + filename)

        df = extractdata(df, filename)
        count += 1

    return df


#this funtion will call the 
#
def runInRunningFolder(df):

    for MRday in listdir(os.getcwd()):

        if ".ipynb" in MRday or ".csv" in MRday or ".DS_Store" in MRday or ".xlsx" in MRday:
            continue

        print(MRday + "\n")

        df = readReportsPerDay(df, MRday)

    return df


print("Extract function is done, please continue.")



#to display to make sure we have empty data frame     
#display(df)      
print(df)



print("Setting up libraries, and empty data frame is done, please continue.\n")
print("-Yemane")
