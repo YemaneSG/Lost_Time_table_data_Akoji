{
 "cells": [
  {
   "cell_type": "code",
   "execution_count": 54,
   "metadata": {},
   "outputs": [],
   "source": [
    "import pandas as pd\n",
    "import numpy as np"
   ]
  },
  {
   "cell_type": "code",
   "execution_count": 82,
   "metadata": {},
   "outputs": [],
   "source": [
    "df_aug = pd.read_excel('LOST TIME_Aug_22_clean.xlsx')"
   ]
  },
  {
   "cell_type": "code",
   "execution_count": 83,
   "metadata": {},
   "outputs": [
    {
     "name": "stdout",
     "output_type": "stream",
     "text": [
      "Empty DataFrame\n",
      "Columns: [seq, Report Date, Rig Name, Well No, Company Name, Date and Time, Time in Hrs, Cummulative Hrs, LT ID, Parent LT ID, LT Type, Cause, Object, Depth, LT Summary]\n",
      "Index: []\n"
     ]
    }
   ],
   "source": [
    "duplicateRows = df_aug[df_aug.duplicated()]\n",
    "print(duplicateRows)"
   ]
  },
  {
   "cell_type": "code",
   "execution_count": 128,
   "metadata": {},
   "outputs": [],
   "source": [
    "df = pd.read_excel('Lost Time Jan-to-Aug-2022.xlsx')"
   ]
  },
  {
   "cell_type": "code",
   "execution_count": 135,
   "metadata": {},
   "outputs": [
    {
     "data": {
      "text/plain": [
       "Index(['Report Date', 'Rig Name', 'Well No', 'Company Name', 'Date and Time',\n",
       "       'Time in Hrs', 'Cummulative Hrs', 'LT ID', 'Parent LT ID', 'LT Type',\n",
       "       'Cause', 'Object', 'Depth', 'LT Summary'],\n",
       "      dtype='object')"
      ]
     },
     "execution_count": 135,
     "metadata": {},
     "output_type": "execute_result"
    }
   ],
   "source": [
    "df.columns"
   ]
  },
  {
   "cell_type": "code",
   "execution_count": 132,
   "metadata": {},
   "outputs": [],
   "source": [
    "df['Time in Hrs'] = pd.to_numeric(df['Time in Hrs'].astype('float'))"
   ]
  },
  {
   "cell_type": "code",
   "execution_count": 134,
   "metadata": {},
   "outputs": [
    {
     "data": {
      "text/plain": [
       "0       10.0\n",
       "1        3.0\n",
       "2        4.5\n",
       "3       18.0\n",
       "4        9.5\n",
       "        ... \n",
       "8951     1.5\n",
       "8952     9.0\n",
       "8953    14.0\n",
       "8954     4.5\n",
       "8955    23.5\n",
       "Name: Time in Hrs, Length: 8956, dtype: float64"
      ]
     },
     "execution_count": 134,
     "metadata": {},
     "output_type": "execute_result"
    }
   ],
   "source": [
    "df['Time in Hrs']"
   ]
  },
  {
   "cell_type": "code",
   "execution_count": 137,
   "metadata": {},
   "outputs": [],
   "source": [
    "df['Cummulative Hrs'] = pd.to_numeric(df['Cummulative Hrs'].astype('float'))"
   ]
  },
  {
   "cell_type": "code",
   "execution_count": null,
   "metadata": {},
   "outputs": [],
   "source": [
    "df.to_excel(\"LT Jan_to_Aug_22.xlsx\")"
   ]
  },
  {
   "cell_type": "code",
   "execution_count": 8,
   "metadata": {},
   "outputs": [],
   "source": [
    "import pandas as pd"
   ]
  },
  {
   "cell_type": "code",
   "execution_count": 21,
   "metadata": {},
   "outputs": [],
   "source": [
    "df_YTD = pd.read_excel('LT Jan_to_Aug_22_Charts_REV-1.xlsx')"
   ]
  },
  {
   "cell_type": "code",
   "execution_count": 29,
   "metadata": {},
   "outputs": [],
   "source": [
    "df_YTD = df_YTD.drop(['Seq'],axis=1)"
   ]
  },
  {
   "cell_type": "code",
   "execution_count": 30,
   "metadata": {},
   "outputs": [
    {
     "data": {
      "text/html": [
       "<div>\n",
       "<style scoped>\n",
       "    .dataframe tbody tr th:only-of-type {\n",
       "        vertical-align: middle;\n",
       "    }\n",
       "\n",
       "    .dataframe tbody tr th {\n",
       "        vertical-align: top;\n",
       "    }\n",
       "\n",
       "    .dataframe thead th {\n",
       "        text-align: right;\n",
       "    }\n",
       "</style>\n",
       "<table border=\"1\" class=\"dataframe\">\n",
       "  <thead>\n",
       "    <tr style=\"text-align: right;\">\n",
       "      <th></th>\n",
       "      <th>Report Date</th>\n",
       "      <th>Month</th>\n",
       "      <th>Rig Name</th>\n",
       "      <th>Well No</th>\n",
       "      <th>Company Name</th>\n",
       "      <th>Date and Time</th>\n",
       "      <th>Time in Hrs</th>\n",
       "      <th>Cummulative Hrs</th>\n",
       "      <th>LT ID</th>\n",
       "      <th>Parent LT ID</th>\n",
       "      <th>LT Type</th>\n",
       "      <th>Cause</th>\n",
       "      <th>Object</th>\n",
       "      <th>Depth</th>\n",
       "      <th>LT Summary</th>\n",
       "    </tr>\n",
       "  </thead>\n",
       "  <tbody>\n",
       "    <tr>\n",
       "      <th>0</th>\n",
       "      <td>01/01/2022</td>\n",
       "      <td>Jan</td>\n",
       "      <td>ADC-16</td>\n",
       "      <td>JAHM-6</td>\n",
       "      <td>RIG</td>\n",
       "      <td>01 Jan 1900 - 0500</td>\n",
       "      <td>10.0</td>\n",
       "      <td>10.0</td>\n",
       "      <td>886676</td>\n",
       "      <td></td>\n",
       "      <td>RR</td>\n",
       "      <td>FOT</td>\n",
       "      <td>TDS</td>\n",
       "      <td>0</td>\n",
       "      <td>TDS TRIPPED DUE TO GROUND FAULT. TROUBLESHOOT...</td>\n",
       "    </tr>\n",
       "    <tr>\n",
       "      <th>1</th>\n",
       "      <td>01/01/2022</td>\n",
       "      <td>Jan</td>\n",
       "      <td>ADC-32</td>\n",
       "      <td>SDGM-1139</td>\n",
       "      <td>RIG</td>\n",
       "      <td>01 Jan 2100 - 0000</td>\n",
       "      <td>3.0</td>\n",
       "      <td>3.0</td>\n",
       "      <td>886710</td>\n",
       "      <td></td>\n",
       "      <td>RR</td>\n",
       "      <td>FOT</td>\n",
       "      <td>EDR</td>\n",
       "      <td>5530</td>\n",
       "      <td>WATER OF THE RAINS LEAKED THROUGH THE ROOF OF...</td>\n",
       "    </tr>\n",
       "    <tr>\n",
       "      <th>2</th>\n",
       "      <td>01/01/2022</td>\n",
       "      <td>Jan</td>\n",
       "      <td>ADC-34</td>\n",
       "      <td>UTMN-2317</td>\n",
       "      <td>FMC</td>\n",
       "      <td>27 Dec 1930 - 0500</td>\n",
       "      <td>4.5</td>\n",
       "      <td>12.0</td>\n",
       "      <td>886267</td>\n",
       "      <td></td>\n",
       "      <td>TF</td>\n",
       "      <td>FOT</td>\n",
       "      <td>CTRQ</td>\n",
       "      <td>320</td>\n",
       "      <td>JAM UNITS (MAIN &amp; BACK UP ) FAILED</td>\n",
       "    </tr>\n",
       "    <tr>\n",
       "      <th>3</th>\n",
       "      <td>01/01/2022</td>\n",
       "      <td>Jan</td>\n",
       "      <td>ADC-60</td>\n",
       "      <td>ABSF-215</td>\n",
       "      <td>SDM</td>\n",
       "      <td>01 Jan 0800 - 0330</td>\n",
       "      <td>18.0</td>\n",
       "      <td>18.0</td>\n",
       "      <td>886686</td>\n",
       "      <td></td>\n",
       "      <td>BHA</td>\n",
       "      <td>FOT</td>\n",
       "      <td>MWD</td>\n",
       "      <td>6365</td>\n",
       "      <td>FAILED TO COMMUNICATE WITH SLB MWD TOOLS.</td>\n",
       "    </tr>\n",
       "    <tr>\n",
       "      <th>4</th>\n",
       "      <td>01/01/2022</td>\n",
       "      <td>Jan</td>\n",
       "      <td>ADC-65L</td>\n",
       "      <td>HRDH-1980</td>\n",
       "      <td>TK3</td>\n",
       "      <td>01 Jan 1930 - 0500</td>\n",
       "      <td>9.5</td>\n",
       "      <td>9.5</td>\n",
       "      <td>886706</td>\n",
       "      <td></td>\n",
       "      <td>STUK</td>\n",
       "      <td>STBH</td>\n",
       "      <td>BHA</td>\n",
       "      <td>6395</td>\n",
       "      <td>STRING GET STUCK IN OPEN HOLE AFTER MAKING TH...</td>\n",
       "    </tr>\n",
       "    <tr>\n",
       "      <th>...</th>\n",
       "      <td>...</td>\n",
       "      <td>...</td>\n",
       "      <td>...</td>\n",
       "      <td>...</td>\n",
       "      <td>...</td>\n",
       "      <td>...</td>\n",
       "      <td>...</td>\n",
       "      <td>...</td>\n",
       "      <td>...</td>\n",
       "      <td>...</td>\n",
       "      <td>...</td>\n",
       "      <td>...</td>\n",
       "      <td>...</td>\n",
       "      <td>...</td>\n",
       "      <td>...</td>\n",
       "    </tr>\n",
       "    <tr>\n",
       "      <th>8951</th>\n",
       "      <td>08/31/2022</td>\n",
       "      <td>Aug</td>\n",
       "      <td>SND-2009</td>\n",
       "      <td>SAHB-101</td>\n",
       "      <td>RIG</td>\n",
       "      <td>31 Aug 2330 - 0100</td>\n",
       "      <td>1.5</td>\n",
       "      <td>1.5</td>\n",
       "      <td>901553</td>\n",
       "      <td></td>\n",
       "      <td>RR</td>\n",
       "      <td>FOT</td>\n",
       "      <td>TDS</td>\n",
       "      <td>2520</td>\n",
       "      <td>TDS HAS HYDRAULIC OIL LEAK HUGE AMOUNT. HYDRA...</td>\n",
       "    </tr>\n",
       "    <tr>\n",
       "      <th>8952</th>\n",
       "      <td>08/31/2022</td>\n",
       "      <td>Aug</td>\n",
       "      <td>SP-125</td>\n",
       "      <td>ANDR-20</td>\n",
       "      <td>EMC</td>\n",
       "      <td>31 Aug 1430 - 2330</td>\n",
       "      <td>9.0</td>\n",
       "      <td>9.0</td>\n",
       "      <td>901441</td>\n",
       "      <td></td>\n",
       "      <td>MUD</td>\n",
       "      <td>SMDF</td>\n",
       "      <td>SCS</td>\n",
       "      <td>4598</td>\n",
       "      <td>ATTEMPT TO PUMP, STRING PLUGGED</td>\n",
       "    </tr>\n",
       "    <tr>\n",
       "      <th>8953</th>\n",
       "      <td>08/31/2022</td>\n",
       "      <td>Aug</td>\n",
       "      <td>SSA-303</td>\n",
       "      <td>HRDH-2411</td>\n",
       "      <td>BLH</td>\n",
       "      <td>30 Aug 1630 - 0430</td>\n",
       "      <td>14.0</td>\n",
       "      <td>26.5</td>\n",
       "      <td>901436</td>\n",
       "      <td></td>\n",
       "      <td>TF</td>\n",
       "      <td>FOT</td>\n",
       "      <td>HGRL</td>\n",
       "      <td>14125</td>\n",
       "      <td>MECHANICAL FAILURE OF SLIPS 4-1/2\" X 7\" BAKER...</td>\n",
       "    </tr>\n",
       "    <tr>\n",
       "      <th>8954</th>\n",
       "      <td>08/31/2022</td>\n",
       "      <td>Aug</td>\n",
       "      <td>SSA-5820</td>\n",
       "      <td>MSBA-1</td>\n",
       "      <td>RIG</td>\n",
       "      <td>30 Aug 0030 - 0930</td>\n",
       "      <td>4.5</td>\n",
       "      <td>9.0</td>\n",
       "      <td>901519</td>\n",
       "      <td></td>\n",
       "      <td>RR</td>\n",
       "      <td>FOT</td>\n",
       "      <td>CRN</td>\n",
       "      <td>1414</td>\n",
       "      <td>RIG CRANE BROKE DOWN. UNABLE TO LAYDOWN BHA C...</td>\n",
       "    </tr>\n",
       "    <tr>\n",
       "      <th>8955</th>\n",
       "      <td>08/31/2022</td>\n",
       "      <td>Aug</td>\n",
       "      <td>SSA-5892</td>\n",
       "      <td>AWTD-141400</td>\n",
       "      <td>RIG</td>\n",
       "      <td>25 Aug 1330 - 0500</td>\n",
       "      <td>23.5</td>\n",
       "      <td>144.5</td>\n",
       "      <td>901352</td>\n",
       "      <td></td>\n",
       "      <td>DSF</td>\n",
       "      <td>FOT</td>\n",
       "      <td>STRG</td>\n",
       "      <td>14481</td>\n",
       "      <td>AFTER MAKING CONNECTION PIPE BECAME STUCK</td>\n",
       "    </tr>\n",
       "  </tbody>\n",
       "</table>\n",
       "<p>8956 rows × 15 columns</p>\n",
       "</div>"
      ],
      "text/plain": [
       "     Report Date Month  Rig Name      Well No Company Name  \\\n",
       "0     01/01/2022   Jan    ADC-16       JAHM-6          RIG   \n",
       "1     01/01/2022   Jan    ADC-32    SDGM-1139          RIG   \n",
       "2     01/01/2022   Jan    ADC-34    UTMN-2317          FMC   \n",
       "3     01/01/2022   Jan    ADC-60     ABSF-215          SDM   \n",
       "4     01/01/2022   Jan   ADC-65L    HRDH-1980          TK3   \n",
       "...          ...   ...       ...          ...          ...   \n",
       "8951  08/31/2022   Aug  SND-2009     SAHB-101          RIG   \n",
       "8952  08/31/2022   Aug    SP-125      ANDR-20          EMC   \n",
       "8953  08/31/2022   Aug   SSA-303    HRDH-2411          BLH   \n",
       "8954  08/31/2022   Aug  SSA-5820       MSBA-1          RIG   \n",
       "8955  08/31/2022   Aug  SSA-5892  AWTD-141400          RIG   \n",
       "\n",
       "           Date and Time  Time in Hrs  Cummulative Hrs    LT ID Parent LT ID  \\\n",
       "0     01 Jan 1900 - 0500         10.0             10.0   886676                \n",
       "1     01 Jan 2100 - 0000          3.0              3.0   886710                \n",
       "2     27 Dec 1930 - 0500          4.5             12.0   886267                \n",
       "3     01 Jan 0800 - 0330         18.0             18.0   886686                \n",
       "4     01 Jan 1930 - 0500          9.5              9.5   886706                \n",
       "...                  ...          ...              ...      ...          ...   \n",
       "8951  31 Aug 2330 - 0100          1.5              1.5   901553                \n",
       "8952  31 Aug 1430 - 2330          9.0              9.0   901441                \n",
       "8953  30 Aug 1630 - 0430         14.0             26.5   901436                \n",
       "8954  30 Aug 0030 - 0930          4.5              9.0   901519                \n",
       "8955  25 Aug 1330 - 0500         23.5            144.5   901352                \n",
       "\n",
       "     LT Type  Cause Object   Depth  \\\n",
       "0         RR    FOT    TDS       0   \n",
       "1         RR    FOT    EDR    5530   \n",
       "2         TF    FOT   CTRQ     320   \n",
       "3        BHA    FOT    MWD    6365   \n",
       "4       STUK   STBH    BHA    6395   \n",
       "...      ...    ...    ...     ...   \n",
       "8951      RR    FOT    TDS    2520   \n",
       "8952     MUD   SMDF    SCS    4598   \n",
       "8953      TF    FOT   HGRL   14125   \n",
       "8954      RR    FOT    CRN    1414   \n",
       "8955     DSF    FOT   STRG   14481   \n",
       "\n",
       "                                             LT Summary  \n",
       "0      TDS TRIPPED DUE TO GROUND FAULT. TROUBLESHOOT...  \n",
       "1      WATER OF THE RAINS LEAKED THROUGH THE ROOF OF...  \n",
       "2                   JAM UNITS (MAIN & BACK UP ) FAILED   \n",
       "3             FAILED TO COMMUNICATE WITH SLB MWD TOOLS.  \n",
       "4      STRING GET STUCK IN OPEN HOLE AFTER MAKING TH...  \n",
       "...                                                 ...  \n",
       "8951   TDS HAS HYDRAULIC OIL LEAK HUGE AMOUNT. HYDRA...  \n",
       "8952                    ATTEMPT TO PUMP, STRING PLUGGED  \n",
       "8953   MECHANICAL FAILURE OF SLIPS 4-1/2\" X 7\" BAKER...  \n",
       "8954   RIG CRANE BROKE DOWN. UNABLE TO LAYDOWN BHA C...  \n",
       "8955          AFTER MAKING CONNECTION PIPE BECAME STUCK  \n",
       "\n",
       "[8956 rows x 15 columns]"
      ]
     },
     "execution_count": 30,
     "metadata": {},
     "output_type": "execute_result"
    }
   ],
   "source": [
    "df_YTD"
   ]
  },
  {
   "cell_type": "code",
   "execution_count": 26,
   "metadata": {},
   "outputs": [],
   "source": [
    "df_sep = pd.read_excel('LT 09-22_clean_data.xlsx')"
   ]
  },
  {
   "cell_type": "code",
   "execution_count": 32,
   "metadata": {},
   "outputs": [],
   "source": [
    "df_sep = df_sep.drop(['seq'],axis=1)"
   ]
  },
  {
   "cell_type": "code",
   "execution_count": 27,
   "metadata": {},
   "outputs": [],
   "source": [
    "df_oct = pd.read_excel('LT 10-22_till_23_clean_data.xlsx')"
   ]
  },
  {
   "cell_type": "code",
   "execution_count": 35,
   "metadata": {},
   "outputs": [],
   "source": [
    "df_oct = df_oct.drop(['seq'],axis=1)"
   ]
  },
  {
   "cell_type": "code",
   "execution_count": 39,
   "metadata": {},
   "outputs": [],
   "source": [
    "df_YTD_NEW = df_YTD.append(df_sep)"
   ]
  },
  {
   "cell_type": "code",
   "execution_count": 41,
   "metadata": {},
   "outputs": [],
   "source": [
    "df_YTD_NEW = df_YTD_NEW.append(df_oct)"
   ]
  },
  {
   "cell_type": "code",
   "execution_count": 42,
   "metadata": {},
   "outputs": [],
   "source": [
    "df_YTD_NEW.to_excel('LT_1-Jan-to-23-Oct-22.xlsx')"
   ]
  },
  {
   "cell_type": "code",
   "execution_count": 43,
   "metadata": {},
   "outputs": [
    {
     "data": {
      "text/plain": [
       "Index(['Report Date', 'Month', 'Rig Name', 'Well No', 'Company Name',\n",
       "       'Date and Time', 'Time in Hrs', 'Cummulative Hrs', 'LT ID',\n",
       "       'Parent LT ID', 'LT Type', 'Cause', 'Object', 'Depth', 'LT Summary'],\n",
       "      dtype='object')"
      ]
     },
     "execution_count": 43,
     "metadata": {},
     "output_type": "execute_result"
    }
   ],
   "source": [
    "df_YTD_NEW.columns"
   ]
  },
  {
   "cell_type": "code",
   "execution_count": 45,
   "metadata": {},
   "outputs": [],
   "source": [
    "time_in_hrs = df_YTD_NEW['Time in Hrs']"
   ]
  },
  {
   "cell_type": "code",
   "execution_count": 47,
   "metadata": {},
   "outputs": [
    {
     "ename": "ValueError",
     "evalue": "Unable to parse string \" 17.25\" at position 8956",
     "output_type": "error",
     "traceback": [
      "\u001b[1;31m---------------------------------------------------------------------------\u001b[0m",
      "\u001b[1;31mValueError\u001b[0m                                Traceback (most recent call last)",
      "\u001b[1;32mpandas\\_libs\\lib.pyx\u001b[0m in \u001b[0;36mpandas._libs.lib.maybe_convert_numeric\u001b[1;34m()\u001b[0m\n",
      "\u001b[1;31mValueError\u001b[0m: Unable to parse string \" 17.25\"",
      "\nDuring handling of the above exception, another exception occurred:\n",
      "\u001b[1;31mValueError\u001b[0m                                Traceback (most recent call last)",
      "\u001b[1;32m<ipython-input-47-4f7c2768a37c>\u001b[0m in \u001b[0;36m<module>\u001b[1;34m\u001b[0m\n\u001b[1;32m----> 1\u001b[1;33m \u001b[0mtime_in_hrs\u001b[0m \u001b[1;33m=\u001b[0m \u001b[0mpd\u001b[0m\u001b[1;33m.\u001b[0m\u001b[0mto_numeric\u001b[0m\u001b[1;33m(\u001b[0m\u001b[0mtime_in_hrs\u001b[0m\u001b[1;33m)\u001b[0m\u001b[1;33m\u001b[0m\u001b[1;33m\u001b[0m\u001b[0m\n\u001b[0m",
      "\u001b[1;32mc:\\Users\\ygebremedhin\\Anaconda3\\lib\\site-packages\\pandas\\core\\tools\\numeric.py\u001b[0m in \u001b[0;36mto_numeric\u001b[1;34m(arg, errors, downcast)\u001b[0m\n\u001b[0;32m    150\u001b[0m         \u001b[0mcoerce_numeric\u001b[0m \u001b[1;33m=\u001b[0m \u001b[0merrors\u001b[0m \u001b[1;32mnot\u001b[0m \u001b[1;32min\u001b[0m \u001b[1;33m(\u001b[0m\u001b[1;34m\"ignore\"\u001b[0m\u001b[1;33m,\u001b[0m \u001b[1;34m\"raise\"\u001b[0m\u001b[1;33m)\u001b[0m\u001b[1;33m\u001b[0m\u001b[1;33m\u001b[0m\u001b[0m\n\u001b[0;32m    151\u001b[0m         \u001b[1;32mtry\u001b[0m\u001b[1;33m:\u001b[0m\u001b[1;33m\u001b[0m\u001b[1;33m\u001b[0m\u001b[0m\n\u001b[1;32m--> 152\u001b[1;33m             values = lib.maybe_convert_numeric(\n\u001b[0m\u001b[0;32m    153\u001b[0m                 \u001b[0mvalues\u001b[0m\u001b[1;33m,\u001b[0m \u001b[0mset\u001b[0m\u001b[1;33m(\u001b[0m\u001b[1;33m)\u001b[0m\u001b[1;33m,\u001b[0m \u001b[0mcoerce_numeric\u001b[0m\u001b[1;33m=\u001b[0m\u001b[0mcoerce_numeric\u001b[0m\u001b[1;33m\u001b[0m\u001b[1;33m\u001b[0m\u001b[0m\n\u001b[0;32m    154\u001b[0m             )\n",
      "\u001b[1;32mpandas\\_libs\\lib.pyx\u001b[0m in \u001b[0;36mpandas._libs.lib.maybe_convert_numeric\u001b[1;34m()\u001b[0m\n",
      "\u001b[1;31mValueError\u001b[0m: Unable to parse string \" 17.25\" at position 8956"
     ]
    }
   ],
   "source": [
    "time_in_hrs = pd.to_numeric(time_in_hrs)"
   ]
  },
  {
   "cell_type": "code",
   "execution_count": 52,
   "metadata": {},
   "outputs": [
    {
     "name": "stdout",
     "output_type": "stream",
     "text": [
      "<class 'str'>\n"
     ]
    }
   ],
   "source": [
    "print(type(df_YTD_NEW.iloc[8956][7]))"
   ]
  },
  {
   "cell_type": "code",
   "execution_count": 53,
   "metadata": {},
   "outputs": [
    {
     "name": "stdout",
     "output_type": "stream",
     "text": [
      "<class 'float'>\n"
     ]
    }
   ],
   "source": [
    "print(type(df_YTD_NEW.iloc[8955][7]))"
   ]
  },
  {
   "cell_type": "code",
   "execution_count": 55,
   "metadata": {},
   "outputs": [],
   "source": [
    "time_in_hrs = time_in_hrs.astype(np.float)"
   ]
  },
  {
   "cell_type": "code",
   "execution_count": 60,
   "metadata": {},
   "outputs": [],
   "source": [
    "df_YTD_NEW['Time in Hrs'] = pd.to_numeric(df_YTD_NEW['Time in Hrs'].astype('float'))\n",
    "df_YTD_NEW['Cummulative Hrs'] = pd.to_numeric(df_YTD_NEW['Cummulative Hrs'].astype('float'))\n"
   ]
  },
  {
   "cell_type": "code",
   "execution_count": 56,
   "metadata": {},
   "outputs": [
    {
     "name": "stdout",
     "output_type": "stream",
     "text": [
      "<class 'pandas.core.series.Series'>\n"
     ]
    }
   ],
   "source": [
    "import time\n",
    "\n",
    "\n",
    "print(type(time_in_hrs))"
   ]
  },
  {
   "cell_type": "code",
   "execution_count": 57,
   "metadata": {},
   "outputs": [
    {
     "data": {
      "text/plain": [
       "pandas.core.series.Series"
      ]
     },
     "execution_count": 57,
     "metadata": {},
     "output_type": "execute_result"
    }
   ],
   "source": [
    "type(time_in_hrs[22])"
   ]
  },
  {
   "cell_type": "code",
   "execution_count": 61,
   "metadata": {},
   "outputs": [],
   "source": [
    "df_YTD_NEW.to_excel('LT_1-Jan-to-23-Oct-22_floats_data.xlsx')"
   ]
  },
  {
   "cell_type": "code",
   "execution_count": null,
   "metadata": {},
   "outputs": [],
   "source": []
  }
 ],
 "metadata": {
  "kernelspec": {
   "display_name": "Python 3.8.5 ('base')",
   "language": "python",
   "name": "python3"
  },
  "language_info": {
   "codemirror_mode": {
    "name": "ipython",
    "version": 3
   },
   "file_extension": ".py",
   "mimetype": "text/x-python",
   "name": "python",
   "nbconvert_exporter": "python",
   "pygments_lexer": "ipython3",
   "version": "3.8.5"
  },
  "orig_nbformat": 4,
  "vscode": {
   "interpreter": {
    "hash": "3597ca315cc4d0c44229882773a9f8a0584b41dcd6bb162ad917953ccaa3f5c2"
   }
  }
 },
 "nbformat": 4,
 "nbformat_minor": 2
}
