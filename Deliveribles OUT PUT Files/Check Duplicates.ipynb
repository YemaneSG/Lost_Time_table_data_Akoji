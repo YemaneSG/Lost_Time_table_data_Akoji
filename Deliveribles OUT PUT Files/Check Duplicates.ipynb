{
 "cells": [
  {
   "cell_type": "code",
   "execution_count": 3,
   "metadata": {
    "collapsed": true
   },
   "outputs": [],
   "source": [
    "import pandas as pd"
   ]
  },
  {
   "cell_type": "code",
   "execution_count": 9,
   "outputs": [],
   "source": [
    "df = pd.read_excel('LOST TIME_Aug_-22.xlsx')"
   ],
   "metadata": {
    "collapsed": false,
    "pycharm": {
     "name": "#%%\n"
    }
   }
  },
  {
   "cell_type": "code",
   "execution_count": 10,
   "outputs": [
    {
     "data": {
      "text/plain": "      Unnamed: 0  Cause Company Name Cummulative Hrs       Date and Time  \\\n0              0  Cause      Resp Co        Cum. Hrs          From  - To   \n1              1    FOT          WEP            33.5  31 Jul 1930 - 0500   \n2              2  Cause      Resp Co        Cum. Hrs          From  - To   \n3              3   FPMP          RIG               2  01 Aug 0900 - 1100   \n4              4  Cause      Resp Co        Cum. Hrs          From  - To   \n...          ...    ...          ...             ...                 ...   \n3602        3602    FOT          BLH            26.5  30 Aug 1630 - 0430   \n3603        3603  Cause      Resp Co        Cum. Hrs          From  - To   \n3604        3604    FOT          RIG               9  30 Aug 0030 - 0930   \n3605        3605  Cause      Resp Co        Cum. Hrs          From  - To   \n3606        3606    FOT          RIG           144.5  25 Aug 1330 - 0500   \n\n       Depth    LT ID                                         LT Summary  \\\n0      Depth    LT ID                                         LT Summary   \n1       5926   900302   UNABLE TO RUN 4-1/2\" HALLIBURTON COMPLETION S...   \n2      Depth    LT ID                                         LT Summary   \n3       9336   900331   WHILE DRILLING OBSERVE PRESSURE DROP, FOUND L...   \n4      Depth    LT ID                                         LT Summary   \n...      ...      ...                                                ...   \n3602   14125   901436   MECHANICAL FAILURE OF SLIPS 4-1/2\" X 7\" BAKER...   \n3603   Depth    LT ID                                         LT Summary   \n3604    1414   901519   RIG CRANE BROKE DOWN. UNABLE TO LAYDOWN BHA C...   \n3605   Depth    LT ID                                         LT Summary   \n3606   14481   901352          AFTER MAKING CONNECTION PIPE BECAME STUCK   \n\n     LT Type  Object  Parent LT ID Report Date  Rig Name Time in Hrs  \\\n0       Type  Object  Parent LT ID  08/01/2022     088TE         Hrs   \n1         TF    CPCH                08/01/2022     088TE          24   \n2       Type  Object  Parent LT ID  08/01/2022    ADC-29         Hrs   \n3         RR    MPMP                08/01/2022    ADC-29           2   \n4       Type  Object  Parent LT ID  08/01/2022    ADC-31         Hrs   \n...      ...     ...           ...         ...       ...         ...   \n3602      TF    HGRL                08/31/2022   SSA-303          14   \n3603    Type  Object  Parent LT ID  08/31/2022  SSA-5820         Hrs   \n3604      RR     CRN                08/31/2022  SSA-5820         4.5   \n3605    Type  Object  Parent LT ID  08/31/2022  SSA-5892         Hrs   \n3606     DSF    STRG                08/31/2022  SSA-5892        23.5   \n\n          Well No  \n0        QTIF-330  \n1        QTIF-330  \n2        NYYM-100  \n3        NYYM-100  \n4       SDGM-1181  \n...           ...  \n3602    HRDH-2411  \n3603       MSBA-1  \n3604       MSBA-1  \n3605  AWTD-141400  \n3606  AWTD-141400  \n\n[3607 rows x 15 columns]",
      "text/html": "<div>\n<style scoped>\n    .dataframe tbody tr th:only-of-type {\n        vertical-align: middle;\n    }\n\n    .dataframe tbody tr th {\n        vertical-align: top;\n    }\n\n    .dataframe thead th {\n        text-align: right;\n    }\n</style>\n<table border=\"1\" class=\"dataframe\">\n  <thead>\n    <tr style=\"text-align: right;\">\n      <th></th>\n      <th>Unnamed: 0</th>\n      <th>Cause</th>\n      <th>Company Name</th>\n      <th>Cummulative Hrs</th>\n      <th>Date and Time</th>\n      <th>Depth</th>\n      <th>LT ID</th>\n      <th>LT Summary</th>\n      <th>LT Type</th>\n      <th>Object</th>\n      <th>Parent LT ID</th>\n      <th>Report Date</th>\n      <th>Rig Name</th>\n      <th>Time in Hrs</th>\n      <th>Well No</th>\n    </tr>\n  </thead>\n  <tbody>\n    <tr>\n      <th>0</th>\n      <td>0</td>\n      <td>Cause</td>\n      <td>Resp Co</td>\n      <td>Cum. Hrs</td>\n      <td>From  - To</td>\n      <td>Depth</td>\n      <td>LT ID</td>\n      <td>LT Summary</td>\n      <td>Type</td>\n      <td>Object</td>\n      <td>Parent LT ID</td>\n      <td>08/01/2022</td>\n      <td>088TE</td>\n      <td>Hrs</td>\n      <td>QTIF-330</td>\n    </tr>\n    <tr>\n      <th>1</th>\n      <td>1</td>\n      <td>FOT</td>\n      <td>WEP</td>\n      <td>33.5</td>\n      <td>31 Jul 1930 - 0500</td>\n      <td>5926</td>\n      <td>900302</td>\n      <td>UNABLE TO RUN 4-1/2\" HALLIBURTON COMPLETION S...</td>\n      <td>TF</td>\n      <td>CPCH</td>\n      <td></td>\n      <td>08/01/2022</td>\n      <td>088TE</td>\n      <td>24</td>\n      <td>QTIF-330</td>\n    </tr>\n    <tr>\n      <th>2</th>\n      <td>2</td>\n      <td>Cause</td>\n      <td>Resp Co</td>\n      <td>Cum. Hrs</td>\n      <td>From  - To</td>\n      <td>Depth</td>\n      <td>LT ID</td>\n      <td>LT Summary</td>\n      <td>Type</td>\n      <td>Object</td>\n      <td>Parent LT ID</td>\n      <td>08/01/2022</td>\n      <td>ADC-29</td>\n      <td>Hrs</td>\n      <td>NYYM-100</td>\n    </tr>\n    <tr>\n      <th>3</th>\n      <td>3</td>\n      <td>FPMP</td>\n      <td>RIG</td>\n      <td>2</td>\n      <td>01 Aug 0900 - 1100</td>\n      <td>9336</td>\n      <td>900331</td>\n      <td>WHILE DRILLING OBSERVE PRESSURE DROP, FOUND L...</td>\n      <td>RR</td>\n      <td>MPMP</td>\n      <td></td>\n      <td>08/01/2022</td>\n      <td>ADC-29</td>\n      <td>2</td>\n      <td>NYYM-100</td>\n    </tr>\n    <tr>\n      <th>4</th>\n      <td>4</td>\n      <td>Cause</td>\n      <td>Resp Co</td>\n      <td>Cum. Hrs</td>\n      <td>From  - To</td>\n      <td>Depth</td>\n      <td>LT ID</td>\n      <td>LT Summary</td>\n      <td>Type</td>\n      <td>Object</td>\n      <td>Parent LT ID</td>\n      <td>08/01/2022</td>\n      <td>ADC-31</td>\n      <td>Hrs</td>\n      <td>SDGM-1181</td>\n    </tr>\n    <tr>\n      <th>...</th>\n      <td>...</td>\n      <td>...</td>\n      <td>...</td>\n      <td>...</td>\n      <td>...</td>\n      <td>...</td>\n      <td>...</td>\n      <td>...</td>\n      <td>...</td>\n      <td>...</td>\n      <td>...</td>\n      <td>...</td>\n      <td>...</td>\n      <td>...</td>\n      <td>...</td>\n    </tr>\n    <tr>\n      <th>3602</th>\n      <td>3602</td>\n      <td>FOT</td>\n      <td>BLH</td>\n      <td>26.5</td>\n      <td>30 Aug 1630 - 0430</td>\n      <td>14125</td>\n      <td>901436</td>\n      <td>MECHANICAL FAILURE OF SLIPS 4-1/2\" X 7\" BAKER...</td>\n      <td>TF</td>\n      <td>HGRL</td>\n      <td></td>\n      <td>08/31/2022</td>\n      <td>SSA-303</td>\n      <td>14</td>\n      <td>HRDH-2411</td>\n    </tr>\n    <tr>\n      <th>3603</th>\n      <td>3603</td>\n      <td>Cause</td>\n      <td>Resp Co</td>\n      <td>Cum. Hrs</td>\n      <td>From  - To</td>\n      <td>Depth</td>\n      <td>LT ID</td>\n      <td>LT Summary</td>\n      <td>Type</td>\n      <td>Object</td>\n      <td>Parent LT ID</td>\n      <td>08/31/2022</td>\n      <td>SSA-5820</td>\n      <td>Hrs</td>\n      <td>MSBA-1</td>\n    </tr>\n    <tr>\n      <th>3604</th>\n      <td>3604</td>\n      <td>FOT</td>\n      <td>RIG</td>\n      <td>9</td>\n      <td>30 Aug 0030 - 0930</td>\n      <td>1414</td>\n      <td>901519</td>\n      <td>RIG CRANE BROKE DOWN. UNABLE TO LAYDOWN BHA C...</td>\n      <td>RR</td>\n      <td>CRN</td>\n      <td></td>\n      <td>08/31/2022</td>\n      <td>SSA-5820</td>\n      <td>4.5</td>\n      <td>MSBA-1</td>\n    </tr>\n    <tr>\n      <th>3605</th>\n      <td>3605</td>\n      <td>Cause</td>\n      <td>Resp Co</td>\n      <td>Cum. Hrs</td>\n      <td>From  - To</td>\n      <td>Depth</td>\n      <td>LT ID</td>\n      <td>LT Summary</td>\n      <td>Type</td>\n      <td>Object</td>\n      <td>Parent LT ID</td>\n      <td>08/31/2022</td>\n      <td>SSA-5892</td>\n      <td>Hrs</td>\n      <td>AWTD-141400</td>\n    </tr>\n    <tr>\n      <th>3606</th>\n      <td>3606</td>\n      <td>FOT</td>\n      <td>RIG</td>\n      <td>144.5</td>\n      <td>25 Aug 1330 - 0500</td>\n      <td>14481</td>\n      <td>901352</td>\n      <td>AFTER MAKING CONNECTION PIPE BECAME STUCK</td>\n      <td>DSF</td>\n      <td>STRG</td>\n      <td></td>\n      <td>08/31/2022</td>\n      <td>SSA-5892</td>\n      <td>23.5</td>\n      <td>AWTD-141400</td>\n    </tr>\n  </tbody>\n</table>\n<p>3607 rows × 15 columns</p>\n</div>"
     },
     "execution_count": 10,
     "metadata": {},
     "output_type": "execute_result"
    }
   ],
   "source": [
    "df"
   ],
   "metadata": {
    "collapsed": false,
    "pycharm": {
     "name": "#%%\n"
    }
   }
  },
  {
   "cell_type": "code",
   "execution_count": null,
   "outputs": [],
   "source": [],
   "metadata": {
    "collapsed": false,
    "pycharm": {
     "name": "#%%\n"
    }
   }
  }
 ],
 "metadata": {
  "kernelspec": {
   "display_name": "Python 3",
   "language": "python",
   "name": "python3"
  },
  "language_info": {
   "codemirror_mode": {
    "name": "ipython",
    "version": 2
   },
   "file_extension": ".py",
   "mimetype": "text/x-python",
   "name": "python",
   "nbconvert_exporter": "python",
   "pygments_lexer": "ipython2",
   "version": "2.7.6"
  }
 },
 "nbformat": 4,
 "nbformat_minor": 0
}