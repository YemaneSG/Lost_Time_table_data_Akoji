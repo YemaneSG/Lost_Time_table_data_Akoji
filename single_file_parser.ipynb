18
<class 'bs4.element.ResultSet'>
assigned date and time: is DRLG
-1 item RIH W/ 22" NEW TC BIT ON SPERRY BHA ADDING 2 STD X 9.5" & 1 STD X 8.5" DC, WASH DOWN TO BTM @ 448 FT.
-2 item  
-3 item  
-4 item  
-5 item  
-6 item 448
-7 item 448
-8 item RIG
-9 item BHA
-10 item HT
-11 tem DRLG
18
<class 'bs4.element.ResultSet'>
assigned date and time: is DRLG
-1 item DIRECTIONAL DRILL ROTATE/SLIDE 22" HOLE SECTION WITH SPERRY MM/GWD ASSY.- PUMP HI VIS EVERY STD.- ADDING RAPID STICKS WHILE CONNECTION.- RECORD GWD SURVEY EVERY STD.- SLIDING 33%, ROTARY 67%.- ACTUAL FROM PLAN: 3 FT ABOVE, 1 FT LEFT.
-2 item  
-3 item  
-4 item  
-5 item  
-6 item 1470
-7 item 448
-8 item SPS
-9 item MMOT
-10 item DMR
-11 tem DRLG
18
<class 'bs4.element.ResultSet'>
assigned date and time: is DRLG
-1 item CHANGE PISTON FOR MUD PUMP #1 MEANWHILE CIRC WASH UP & REAM DOWN WITH MUD PUMP #2.
-2 item  901503
-3 item  RR
-4 item  
-5 item  
-6 item 1470
-7 item 1470
-8 item RIG
-9 item MPMP
-10 item RR
-11 tem DRLG
18
<class 'bs4.element.ResultSet'>
assigned date and time: is DRLG
-1 item DIRECTIONAL DRILL ROTATE/SLIDE 22" HOLE SECTION WITH SPERRY MM/GWD ASSY.- PUMP HI VIS EVERY STD.- ADDING RAPID STICKS WHILE CONNECTION.- RECORD GWD SURVEY EVERY STD.- SLIDING 33%, ROTARY 67%.- ACTUAL FROM PLAN: 3 FT ABOVE, 1 FT LEFT.
-2 item  
-3 item  
-4 item  
-5 item  
-6 item 1560
-7 item 1470
-8 item SPS
-9 item MMOT
-10 item DMR
-11 tem DRLG
23
<class 'bs4.element.ResultSet'>
assigned date and time: is 30 Aug 0245 - 0315
-1 item  PRESSURE DROP DUE TO FAILURE OF PISTON FOR MUD PUMP #1.
-2 item  1470
-3 item  RIG
-4 item  MPMP
-5 item  FPMP
-6 item  RR
-7 item  
-8 item  901503
-9 item  .5
-10 item  .5
-11 tem 30 Aug 0245 - 0315
11
<class 'bs4.element.ResultSet'>
assigned date and time: is From  - To
-1 item LT Summary
-2 item  Depth
-3 item  Resp Co
-4 item Object
-5 item Cause
-6 item Type
-7 item Parent LT ID
-8 item LT ID
-9 item Cum. Hrs
-10 item Hrs
-11 tem From  - To
11
<class 'bs4.element.ResultSet'>
assigned date and time: is 30 Aug 0245 - 0315
-1 item  PRESSURE DROP DUE TO FAILURE OF PISTON FOR MUD PUMP #1.
-2 item  1470
-3 item  RIG
-4 item  MPMP
-5 item  FPMP
-6 item  RR
-7 item  
-8 item  901503
-9 item  .5
-10 item  .5
-11 tem 30 Aug 0245 - 0315
